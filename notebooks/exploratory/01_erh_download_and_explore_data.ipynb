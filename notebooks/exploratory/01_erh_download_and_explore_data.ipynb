{
 "cells": [
  {
   "cell_type": "markdown",
   "metadata": {},
   "source": [
    "# Data Download and Exploration"
   ]
  },
  {
   "cell_type": "markdown",
   "metadata": {},
   "source": [
    "This code means that the notebook will re-import your source code in `src` when it is edited (the default is not to re-import, because most modules are assumed not to change over time).  It's a good idea to include it in any exploratory notebook that uses `src` code"
   ]
  },
  {
   "source": [
    "%load_ext autoreload\n",
    "%autoreload 2"
   ],
   "cell_type": "code",
   "outputs": [],
   "metadata": {},
   "execution_count": 1
  },
  {
   "cell_type": "markdown",
   "metadata": {},
   "source": [
    "This snippet allows the notebook to import from the `src` module.  The directory structure looks like:\n",
    "\n",
    "```\n",
    "├── notebooks          <- Jupyter notebooks. Naming convention is a number (for ordering)\n",
    "│   │                     followed by the topic of the notebook, e.g.\n",
    "│   │                     01_data_collection_exploration.ipynb\n",
    "│   └── exploratory    <- Raw, flow-of-consciousness, work-in-progress notebooks\n",
    "│   └── report         <- Final summary notebook(s)\n",
    "│\n",
    "├── src                <- Source code for use in this project\n",
    "│   ├── data           <- Scripts to download and query data\n",
    "│   │   ├── sql        <- SQL scripts. Naming convention is a number (for ordering)\n",
    "│   │   │                 followed by the topic of the script, e.g.\n",
    "│   │   │                 03_create_pums_2017_table.sql\n",
    "│   │   ├── data_collection.py\n",
    "│   │   └── sql_utils.py\n",
    "```\n",
    "\n",
    "So we need to go up two \"pardir\"s (parent directories) to import the `src` code from this notebook.  You'll want to include this code at the top of any notebook that uses the `src` code."
   ]
  },
  {
   "source": [
    "import os\n",
    "import sys\n",
    "module_path = os.path.abspath(os.path.join(os.pardir, os.pardir))\n",
    "if module_path not in sys.path:\n",
    "    sys.path.append(module_path)"
   ],
   "cell_type": "code",
   "outputs": [],
   "metadata": {},
   "execution_count": 2
  },
  {
   "cell_type": "markdown",
   "metadata": {},
   "source": [
    "The code to download all of the data and load it into a SQL database is in the `data` module within the `src` module.  You'll only need to run `download_data_and_load_into_sql` one time for the duration of the project."
   ]
  },
  {
   "source": [
    "from src.data import data_collection"
   ],
   "cell_type": "code",
   "outputs": [],
   "metadata": {},
   "execution_count": 3
  },
  {
   "cell_type": "markdown",
   "metadata": {},
   "source": [
    "This line may take as long as 10-20 minutes depending on your network connection and computer specs"
   ]
  },
  {
   "source": [
    "data_collection.download_data_and_load_into_sql()"
   ],
   "cell_type": "code",
   "outputs": [
    {
     "output_type": "stream",
     "name": "stdout",
     "text": "Successfully created database and all tables\n\nSuccessfully downloaded ZIP file\n    https://www2.census.gov/programs-surveys/acs/data/pums/2017/5-Year/csv_pwa.zip\n    \nSuccessfully downloaded GZIP file\n    https://lehd.ces.census.gov/data/lodes/LODES7/wa/wac/wa_wac_S000_JT00_2017.csv.gz\n    \nSuccessfully downloaded GZIP file\n    https://lehd.ces.census.gov/data/lodes/LODES7/wa/wa_xwalk.csv.gz\n    \nSuccessfully downloaded CSV file\n    https://www2.census.gov/geo/docs/maps-data/data/rel/2010_Census_Tract_to_2010_PUMA.txt\n    \nSuccessfully loaded CSV file into `pums_2017` table\n        \nSuccessfully loaded CSV file into `puma_names_2010` table\n        \nSuccessfully loaded CSV file into `wa_jobs_2017` table\n        \nSuccessfully loaded CSV file into `wa_geo_xwalk` table\n        \nSuccessfully loaded CSV file into `ct_puma_xwalk` table\n        \n"
    }
   ],
   "metadata": {},
   "execution_count": 4
  },
  {
   "cell_type": "markdown",
   "metadata": {},
   "source": [
    "Now it's time to explore the data!"
   ]
  },
  {
   "source": [
    "import psycopg2\n",
    "import pandas as pd"
   ],
   "cell_type": "code",
   "outputs": [],
   "metadata": {},
   "execution_count": 2
  },
  {
   "source": [
    "DBNAME = \"opportunity_youth\""
   ],
   "cell_type": "code",
   "outputs": [],
   "metadata": {},
   "execution_count": 3
  },
  {
   "source": [
    "conn = psycopg2.connect(dbname=DBNAME)"
   ],
   "cell_type": "code",
   "outputs": [],
   "metadata": {},
   "execution_count": 4
  },
  {
   "source": [
    "pd.read_sql(\"\"\"SELECT puma, sum(pwgtp) AS \"Number of OY in SKC \"  FROM pums_2017 WHERE puma between '11610' and '11615' and agep between '16' and '24' and sch = '1' and (esr = '6' or esr = '3') GROUP BY puma\"\"\", conn)"
   ],
   "cell_type": "code",
   "outputs": [
    {
     "output_type": "execute_result",
     "data": {
      "text/plain": "    puma  Number of OY in SKC \n0  11611                2038.0\n1  11612                1977.0\n2  11613                2006.0\n3  11614                1530.0\n4  11615                1210.0",
      "text/html": "<div>\n<style scoped>\n    .dataframe tbody tr th:only-of-type {\n        vertical-align: middle;\n    }\n\n    .dataframe tbody tr th {\n        vertical-align: top;\n    }\n\n    .dataframe thead th {\n        text-align: right;\n    }\n</style>\n<table border=\"1\" class=\"dataframe\">\n  <thead>\n    <tr style=\"text-align: right;\">\n      <th></th>\n      <th>puma</th>\n      <th>Number of OY in SKC</th>\n    </tr>\n  </thead>\n  <tbody>\n    <tr>\n      <th>0</th>\n      <td>11611</td>\n      <td>2038.0</td>\n    </tr>\n    <tr>\n      <th>1</th>\n      <td>11612</td>\n      <td>1977.0</td>\n    </tr>\n    <tr>\n      <th>2</th>\n      <td>11613</td>\n      <td>2006.0</td>\n    </tr>\n    <tr>\n      <th>3</th>\n      <td>11614</td>\n      <td>1530.0</td>\n    </tr>\n    <tr>\n      <th>4</th>\n      <td>11615</td>\n      <td>1210.0</td>\n    </tr>\n  </tbody>\n</table>\n</div>"
     },
     "metadata": {},
     "execution_count": 19
    }
   ],
   "metadata": {},
   "execution_count": 19
  },
  {
   "cell_type": "markdown",
   "metadata": {},
   "source": [
    "Notice the `LIMIT 10` above.  These tables have a large amount of data in them and **your goal is to use SQL to create your main query, not Pandas**.  Pandas can technically do everything that you need to do, but it will be much slower and more inefficient.  Nevertheless, Pandas is still a useful tool for exploring the data and getting a basic sense of what you're looking at."
   ]
  },
  {
   "source": [
    "pd.read_sql(\"\"\"SELECT CONCAT(statefp,  countyfp, tractce), puma5ce, *  FROM ct_puma_xwalk WHERE statefp = '53'\"\"\", conn)"
   ],
   "cell_type": "code",
   "outputs": [
    {
     "output_type": "execute_result",
     "data": {
      "text/plain": "           concat puma5ce statefp countyfp tractce puma5ce\n0     53001950100   10600      53      001  950100   10600\n1     53001950200   10600      53      001  950200   10600\n2     53001950300   10600      53      001  950300   10600\n3     53001950400   10600      53      001  950400   10600\n4     53001950500   10600      53      001  950500   10600\n...           ...     ...     ...      ...     ...     ...\n1453  53077940002   10902      53      077  940002   10902\n1454  53077940003   10902      53      077  940003   10902\n1455  53077940004   10902      53      077  940004   10902\n1456  53077940005   10902      53      077  940005   10902\n1457  53077940006   10902      53      077  940006   10902\n\n[1458 rows x 6 columns]",
      "text/html": "<div>\n<style scoped>\n    .dataframe tbody tr th:only-of-type {\n        vertical-align: middle;\n    }\n\n    .dataframe tbody tr th {\n        vertical-align: top;\n    }\n\n    .dataframe thead th {\n        text-align: right;\n    }\n</style>\n<table border=\"1\" class=\"dataframe\">\n  <thead>\n    <tr style=\"text-align: right;\">\n      <th></th>\n      <th>concat</th>\n      <th>puma5ce</th>\n      <th>statefp</th>\n      <th>countyfp</th>\n      <th>tractce</th>\n      <th>puma5ce</th>\n    </tr>\n  </thead>\n  <tbody>\n    <tr>\n      <th>0</th>\n      <td>53001950100</td>\n      <td>10600</td>\n      <td>53</td>\n      <td>001</td>\n      <td>950100</td>\n      <td>10600</td>\n    </tr>\n    <tr>\n      <th>1</th>\n      <td>53001950200</td>\n      <td>10600</td>\n      <td>53</td>\n      <td>001</td>\n      <td>950200</td>\n      <td>10600</td>\n    </tr>\n    <tr>\n      <th>2</th>\n      <td>53001950300</td>\n      <td>10600</td>\n      <td>53</td>\n      <td>001</td>\n      <td>950300</td>\n      <td>10600</td>\n    </tr>\n    <tr>\n      <th>3</th>\n      <td>53001950400</td>\n      <td>10600</td>\n      <td>53</td>\n      <td>001</td>\n      <td>950400</td>\n      <td>10600</td>\n    </tr>\n    <tr>\n      <th>4</th>\n      <td>53001950500</td>\n      <td>10600</td>\n      <td>53</td>\n      <td>001</td>\n      <td>950500</td>\n      <td>10600</td>\n    </tr>\n    <tr>\n      <th>...</th>\n      <td>...</td>\n      <td>...</td>\n      <td>...</td>\n      <td>...</td>\n      <td>...</td>\n      <td>...</td>\n    </tr>\n    <tr>\n      <th>1453</th>\n      <td>53077940002</td>\n      <td>10902</td>\n      <td>53</td>\n      <td>077</td>\n      <td>940002</td>\n      <td>10902</td>\n    </tr>\n    <tr>\n      <th>1454</th>\n      <td>53077940003</td>\n      <td>10902</td>\n      <td>53</td>\n      <td>077</td>\n      <td>940003</td>\n      <td>10902</td>\n    </tr>\n    <tr>\n      <th>1455</th>\n      <td>53077940004</td>\n      <td>10902</td>\n      <td>53</td>\n      <td>077</td>\n      <td>940004</td>\n      <td>10902</td>\n    </tr>\n    <tr>\n      <th>1456</th>\n      <td>53077940005</td>\n      <td>10902</td>\n      <td>53</td>\n      <td>077</td>\n      <td>940005</td>\n      <td>10902</td>\n    </tr>\n    <tr>\n      <th>1457</th>\n      <td>53077940006</td>\n      <td>10902</td>\n      <td>53</td>\n      <td>077</td>\n      <td>940006</td>\n      <td>10902</td>\n    </tr>\n  </tbody>\n</table>\n<p>1458 rows × 6 columns</p>\n</div>"
     },
     "metadata": {},
     "execution_count": 35
    }
   ],
   "metadata": {},
   "execution_count": 35
  },
  {
   "source": [
    "pd.read_sql(\"\"\"\n",
    "SELECT w_geocode GEOID,c000 Jobs,ca01 Job_Under29 \n",
    "FROM wa_jobs_2017 \n",
    "JOIN \n",
    "\"\"\", conn)"
   ],
   "cell_type": "code",
   "outputs": [
    {
     "output_type": "execute_result",
     "data": {
      "text/plain": "             geoid  jobs  job_under29\n0  530019501001010     1            0",
      "text/html": "<div>\n<style scoped>\n    .dataframe tbody tr th:only-of-type {\n        vertical-align: middle;\n    }\n\n    .dataframe tbody tr th {\n        vertical-align: top;\n    }\n\n    .dataframe thead th {\n        text-align: right;\n    }\n</style>\n<table border=\"1\" class=\"dataframe\">\n  <thead>\n    <tr style=\"text-align: right;\">\n      <th></th>\n      <th>geoid</th>\n      <th>jobs</th>\n      <th>job_under29</th>\n    </tr>\n  </thead>\n  <tbody>\n    <tr>\n      <th>0</th>\n      <td>530019501001010</td>\n      <td>1</td>\n      <td>0</td>\n    </tr>\n  </tbody>\n</table>\n</div>"
     },
     "metadata": {},
     "execution_count": 33
    }
   ],
   "metadata": {},
   "execution_count": 33
  },
  {
   "source": [
    "pd.read_sql(\"\"\"SELECT * FROM puma_names_2010 WHERE state_name = 'Washington' LIMIT 5 \"\"\", conn)"
   ],
   "cell_type": "code",
   "outputs": [
    {
     "output_type": "execute_result",
     "data": {
      "text/plain": "  state_fips                                         state_name cpuma0010  \\\n0         53  Washington                                    ...      1030   \n1         53  Washington                                    ...      1031   \n2         53  Washington                                    ...      1032   \n3         53  Washington                                    ...      1032   \n4         53  Washington                                    ...      1032   \n\n    puma    geoid    gisjoin  \\\n0  10100  5310100  G53010100   \n1  10200  5310200  G53010200   \n2  10300  5310300  G53010300   \n3  10400  5310400  G53010400   \n4  10600  5310600  G53010600   \n\n                                           puma_name  \n0  Whatcom County--Bellingham City               ...  \n1  Skagit, Island & San Juan Counties            ...  \n2  Chelan & Douglas Counties                     ...  \n3  Stevens, Okanogan, Pend Oreille & Ferry Counti...  \n4  Whitman, Asotin, Adams, Lincoln, Columbia & Ga...  ",
      "text/html": "<div>\n<style scoped>\n    .dataframe tbody tr th:only-of-type {\n        vertical-align: middle;\n    }\n\n    .dataframe tbody tr th {\n        vertical-align: top;\n    }\n\n    .dataframe thead th {\n        text-align: right;\n    }\n</style>\n<table border=\"1\" class=\"dataframe\">\n  <thead>\n    <tr style=\"text-align: right;\">\n      <th></th>\n      <th>state_fips</th>\n      <th>state_name</th>\n      <th>cpuma0010</th>\n      <th>puma</th>\n      <th>geoid</th>\n      <th>gisjoin</th>\n      <th>puma_name</th>\n    </tr>\n  </thead>\n  <tbody>\n    <tr>\n      <th>0</th>\n      <td>53</td>\n      <td>Washington                                    ...</td>\n      <td>1030</td>\n      <td>10100</td>\n      <td>5310100</td>\n      <td>G53010100</td>\n      <td>Whatcom County--Bellingham City               ...</td>\n    </tr>\n    <tr>\n      <th>1</th>\n      <td>53</td>\n      <td>Washington                                    ...</td>\n      <td>1031</td>\n      <td>10200</td>\n      <td>5310200</td>\n      <td>G53010200</td>\n      <td>Skagit, Island &amp; San Juan Counties            ...</td>\n    </tr>\n    <tr>\n      <th>2</th>\n      <td>53</td>\n      <td>Washington                                    ...</td>\n      <td>1032</td>\n      <td>10300</td>\n      <td>5310300</td>\n      <td>G53010300</td>\n      <td>Chelan &amp; Douglas Counties                     ...</td>\n    </tr>\n    <tr>\n      <th>3</th>\n      <td>53</td>\n      <td>Washington                                    ...</td>\n      <td>1032</td>\n      <td>10400</td>\n      <td>5310400</td>\n      <td>G53010400</td>\n      <td>Stevens, Okanogan, Pend Oreille &amp; Ferry Counti...</td>\n    </tr>\n    <tr>\n      <th>4</th>\n      <td>53</td>\n      <td>Washington                                    ...</td>\n      <td>1032</td>\n      <td>10600</td>\n      <td>5310600</td>\n      <td>G53010600</td>\n      <td>Whitman, Asotin, Adams, Lincoln, Columbia &amp; Ga...</td>\n    </tr>\n  </tbody>\n</table>\n</div>"
     },
     "metadata": {},
     "execution_count": 63
    }
   ],
   "metadata": {},
   "execution_count": 63
  },
  {
   "source": [
    "# sum_by = 'w_geocode'\n",
    "pd.read_sql(f\"\"\"SELECT geo.bgrp  \"GEOID\",SUM(c000)  \"SALL\", SUM(ca01) \"SU29\", puma.puma5ce \"PUMA\", name.puma_name\n",
    "                FROM wa_jobs_2017 jobs\n",
    "                JOIN wa_geo_xwalk geo\n",
    "                ON jobs.w_geocode = geo.tabblk2010\n",
    "                JOIN ct_puma_xwalk puma\n",
    "                ON geo.trct = CONCAT(puma.statefp, puma.countyfp, puma.tractce)\n",
    "                JOIN puma_names_2010 name\n",
    "                ON puma.puma5ce = name.puma\n",
    "                WHERE puma5ce between '11610' and '11615'\n",
    "                GROUP BY geo.bgrp, \"PUMA\",name.puma_name \"\"\", conn)"
   ],
   "cell_type": "code",
   "outputs": [
    {
     "output_type": "execute_result",
     "data": {
      "text/plain": "     statefp countyfp tractce puma5ce\n0         53      001  950100   10600\n1         53      001  950200   10600\n2         53      001  950300   10600\n3         53      001  950400   10600\n4         53      001  950500   10600\n...      ...      ...     ...     ...\n1453      53      077  940002   10902\n1454      53      077  940003   10902\n1455      53      077  940004   10902\n1456      53      077  940005   10902\n1457      53      077  940006   10902\n\n[1458 rows x 4 columns]",
      "text/html": "<div>\n<style scoped>\n    .dataframe tbody tr th:only-of-type {\n        vertical-align: middle;\n    }\n\n    .dataframe tbody tr th {\n        vertical-align: top;\n    }\n\n    .dataframe thead th {\n        text-align: right;\n    }\n</style>\n<table border=\"1\" class=\"dataframe\">\n  <thead>\n    <tr style=\"text-align: right;\">\n      <th></th>\n      <th>statefp</th>\n      <th>countyfp</th>\n      <th>tractce</th>\n      <th>puma5ce</th>\n    </tr>\n  </thead>\n  <tbody>\n    <tr>\n      <th>0</th>\n      <td>53</td>\n      <td>001</td>\n      <td>950100</td>\n      <td>10600</td>\n    </tr>\n    <tr>\n      <th>1</th>\n      <td>53</td>\n      <td>001</td>\n      <td>950200</td>\n      <td>10600</td>\n    </tr>\n    <tr>\n      <th>2</th>\n      <td>53</td>\n      <td>001</td>\n      <td>950300</td>\n      <td>10600</td>\n    </tr>\n    <tr>\n      <th>3</th>\n      <td>53</td>\n      <td>001</td>\n      <td>950400</td>\n      <td>10600</td>\n    </tr>\n    <tr>\n      <th>4</th>\n      <td>53</td>\n      <td>001</td>\n      <td>950500</td>\n      <td>10600</td>\n    </tr>\n    <tr>\n      <th>...</th>\n      <td>...</td>\n      <td>...</td>\n      <td>...</td>\n      <td>...</td>\n    </tr>\n    <tr>\n      <th>1453</th>\n      <td>53</td>\n      <td>077</td>\n      <td>940002</td>\n      <td>10902</td>\n    </tr>\n    <tr>\n      <th>1454</th>\n      <td>53</td>\n      <td>077</td>\n      <td>940003</td>\n      <td>10902</td>\n    </tr>\n    <tr>\n      <th>1455</th>\n      <td>53</td>\n      <td>077</td>\n      <td>940004</td>\n      <td>10902</td>\n    </tr>\n    <tr>\n      <th>1456</th>\n      <td>53</td>\n      <td>077</td>\n      <td>940005</td>\n      <td>10902</td>\n    </tr>\n    <tr>\n      <th>1457</th>\n      <td>53</td>\n      <td>077</td>\n      <td>940006</td>\n      <td>10902</td>\n    </tr>\n  </tbody>\n</table>\n<p>1458 rows × 4 columns</p>\n</div>"
     },
     "metadata": {},
     "execution_count": 71
    }
   ],
   "metadata": {},
   "execution_count": 71
  },
  {
   "source": [
    "pd.read_sql(\"\"\"SELECT DISTINCT(puma5ce) \"PUMA\", statefp, countyfp  FROM ct_puma_xwalk WHERE statefp = '53' and countyfp = '033' \"\"\", conn)"
   ],
   "cell_type": "code",
   "outputs": [
    {
     "output_type": "execute_result",
     "data": {
      "text/plain": "     PUMA statefp countyfp\n0   11601      53      033\n1   11602      53      033\n2   11603      53      033\n3   11604      53      033\n4   11605      53      033\n5   11606      53      033\n6   11607      53      033\n7   11608      53      033\n8   11609      53      033\n9   11610      53      033\n10  11611      53      033\n11  11612      53      033\n12  11613      53      033\n13  11614      53      033\n14  11615      53      033\n15  11616      53      033",
      "text/html": "<div>\n<style scoped>\n    .dataframe tbody tr th:only-of-type {\n        vertical-align: middle;\n    }\n\n    .dataframe tbody tr th {\n        vertical-align: top;\n    }\n\n    .dataframe thead th {\n        text-align: right;\n    }\n</style>\n<table border=\"1\" class=\"dataframe\">\n  <thead>\n    <tr style=\"text-align: right;\">\n      <th></th>\n      <th>PUMA</th>\n      <th>statefp</th>\n      <th>countyfp</th>\n    </tr>\n  </thead>\n  <tbody>\n    <tr>\n      <th>0</th>\n      <td>11601</td>\n      <td>53</td>\n      <td>033</td>\n    </tr>\n    <tr>\n      <th>1</th>\n      <td>11602</td>\n      <td>53</td>\n      <td>033</td>\n    </tr>\n    <tr>\n      <th>2</th>\n      <td>11603</td>\n      <td>53</td>\n      <td>033</td>\n    </tr>\n    <tr>\n      <th>3</th>\n      <td>11604</td>\n      <td>53</td>\n      <td>033</td>\n    </tr>\n    <tr>\n      <th>4</th>\n      <td>11605</td>\n      <td>53</td>\n      <td>033</td>\n    </tr>\n    <tr>\n      <th>5</th>\n      <td>11606</td>\n      <td>53</td>\n      <td>033</td>\n    </tr>\n    <tr>\n      <th>6</th>\n      <td>11607</td>\n      <td>53</td>\n      <td>033</td>\n    </tr>\n    <tr>\n      <th>7</th>\n      <td>11608</td>\n      <td>53</td>\n      <td>033</td>\n    </tr>\n    <tr>\n      <th>8</th>\n      <td>11609</td>\n      <td>53</td>\n      <td>033</td>\n    </tr>\n    <tr>\n      <th>9</th>\n      <td>11610</td>\n      <td>53</td>\n      <td>033</td>\n    </tr>\n    <tr>\n      <th>10</th>\n      <td>11611</td>\n      <td>53</td>\n      <td>033</td>\n    </tr>\n    <tr>\n      <th>11</th>\n      <td>11612</td>\n      <td>53</td>\n      <td>033</td>\n    </tr>\n    <tr>\n      <th>12</th>\n      <td>11613</td>\n      <td>53</td>\n      <td>033</td>\n    </tr>\n    <tr>\n      <th>13</th>\n      <td>11614</td>\n      <td>53</td>\n      <td>033</td>\n    </tr>\n    <tr>\n      <th>14</th>\n      <td>11615</td>\n      <td>53</td>\n      <td>033</td>\n    </tr>\n    <tr>\n      <th>15</th>\n      <td>11616</td>\n      <td>53</td>\n      <td>033</td>\n    </tr>\n  </tbody>\n</table>\n</div>"
     },
     "metadata": {},
     "execution_count": 83
    }
   ],
   "metadata": {},
   "execution_count": 83
  },
  {
   "cell_type": "markdown",
   "metadata": {},
   "source": [
    "Make sure you close the DB connection when you are done using it"
   ]
  },
  {
   "source": [
    "conn.close()"
   ],
   "cell_type": "code",
   "outputs": [],
   "metadata": {},
   "execution_count": 9
  },
  {
   "cell_type": "code",
   "execution_count": null,
   "metadata": {},
   "outputs": [],
   "source": []
  }
 ],
 "metadata": {
  "kernelspec": {
   "display_name": "Python 3.8.1 64-bit",
   "language": "python",
   "name": "python38164bitda49c1fab01f49c4bd84a2e21fa74eef"
  },
  "language_info": {
   "codemirror_mode": {
    "name": "ipython",
    "version": 3
   },
   "file_extension": ".py",
   "mimetype": "text/x-python",
   "name": "python",
   "nbconvert_exporter": "python",
   "pygments_lexer": "ipython3",
   "version": "3.8.1-final"
  }
 },
 "nbformat": 4,
 "nbformat_minor": 4
}