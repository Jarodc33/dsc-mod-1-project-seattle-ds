{
 "nbformat": 4,
 "nbformat_minor": 2,
 "metadata": {
  "language_info": {
   "name": "python",
   "codemirror_mode": {
    "name": "ipython",
    "version": 3
   },
   "version": "3.8.1-final"
  },
  "orig_nbformat": 2,
  "file_extension": ".py",
  "mimetype": "text/x-python",
  "name": "python",
  "npconvert_exporter": "python",
  "pygments_lexer": "ipython3",
  "version": 3,
  "kernelspec": {
   "name": "python38164bitoyenvconda6fcf1ec92587496ab9303553258aae9c",
   "display_name": "Python 3.8.1 64-bit ('oy-env': conda)"
  }
 },
 "cells": [
  {
   "cell_type": "code",
   "execution_count": 1,
   "metadata": {},
   "outputs": [],
   "source": [
    "import psycopg2\n",
    "import pandas as pd\n",
    "\n",
    "conn = psycopg2.connect(dbname = 'opportunity_youth')"
   ]
  },
  {
   "cell_type": "code",
   "execution_count": 11,
   "metadata": {},
   "outputs": [
    {
     "data": {
      "text/html": "<div>\n<style scoped>\n    .dataframe tbody tr th:only-of-type {\n        vertical-align: middle;\n    }\n\n    .dataframe tbody tr th {\n        vertical-align: top;\n    }\n\n    .dataframe thead th {\n        text-align: right;\n    }\n</style>\n<table border=\"1\" class=\"dataframe\">\n  <thead>\n    <tr style=\"text-align: right;\">\n      <th></th>\n      <th>table_name</th>\n    </tr>\n  </thead>\n  <tbody>\n    <tr>\n      <th>0</th>\n      <td>pums_2017</td>\n    </tr>\n    <tr>\n      <th>1</th>\n      <td>puma_names_2010</td>\n    </tr>\n    <tr>\n      <th>2</th>\n      <td>wa_jobs_2017</td>\n    </tr>\n    <tr>\n      <th>3</th>\n      <td>wa_geo_xwalk</td>\n    </tr>\n    <tr>\n      <th>4</th>\n      <td>ct_puma_xwalk</td>\n    </tr>\n  </tbody>\n</table>\n</div>",
      "text/plain": "        table_name\n0        pums_2017\n1  puma_names_2010\n2     wa_jobs_2017\n3     wa_geo_xwalk\n4    ct_puma_xwalk"
     },
     "execution_count": 11,
     "metadata": {},
     "output_type": "execute_result"
    }
   ],
   "source": [
    "pd.read_sql(\"\"\"\n",
    "SELECT table_name\n",
    "FROM information_schema.tables\n",
    "WHERE table_type='BASE TABLE'\n",
    "AND table_schema='public';\"\"\", conn)"
   ]
  },
  {
   "cell_type": "code",
   "execution_count": 138,
   "metadata": {},
   "outputs": [
    {
     "data": {
      "text/html": "<div>\n<style scoped>\n    .dataframe tbody tr th:only-of-type {\n        vertical-align: middle;\n    }\n\n    .dataframe tbody tr th {\n        vertical-align: top;\n    }\n\n    .dataframe thead th {\n        text-align: right;\n    }\n</style>\n<table border=\"1\" class=\"dataframe\">\n  <thead>\n    <tr style=\"text-align: right;\">\n      <th></th>\n      <th>w_geocode</th>\n      <th>sum</th>\n    </tr>\n  </thead>\n  <tbody>\n    <tr>\n      <th>0</th>\n      <td>530330109001029</td>\n      <td>203</td>\n    </tr>\n    <tr>\n      <th>1</th>\n      <td>530330251011000</td>\n      <td>0</td>\n    </tr>\n    <tr>\n      <th>2</th>\n      <td>530330251011003</td>\n      <td>43</td>\n    </tr>\n    <tr>\n      <th>3</th>\n      <td>530330251011004</td>\n      <td>30</td>\n    </tr>\n    <tr>\n      <th>4</th>\n      <td>530330251011005</td>\n      <td>30</td>\n    </tr>\n    <tr>\n      <th>...</th>\n      <td>...</td>\n      <td>...</td>\n    </tr>\n    <tr>\n      <th>4132</th>\n      <td>530330321024012</td>\n      <td>2</td>\n    </tr>\n    <tr>\n      <th>4133</th>\n      <td>530330321024014</td>\n      <td>4</td>\n    </tr>\n    <tr>\n      <th>4134</th>\n      <td>530330321024015</td>\n      <td>1</td>\n    </tr>\n    <tr>\n      <th>4135</th>\n      <td>530330321024017</td>\n      <td>2</td>\n    </tr>\n    <tr>\n      <th>4136</th>\n      <td>530330321024021</td>\n      <td>1</td>\n    </tr>\n  </tbody>\n</table>\n<p>4137 rows × 2 columns</p>\n</div>",
      "text/plain": "            w_geocode  sum\n0     530330109001029  203\n1     530330251011000    0\n2     530330251011003   43\n3     530330251011004   30\n4     530330251011005   30\n...               ...  ...\n4132  530330321024012    2\n4133  530330321024014    4\n4134  530330321024015    1\n4135  530330321024017    2\n4136  530330321024021    1\n\n[4137 rows x 2 columns]"
     },
     "execution_count": 138,
     "metadata": {},
     "output_type": "execute_result"
    }
   ],
   "source": [
    "sum_by = 'w_geocode'\n",
    "\n",
    "pd.read_sql(f\"\"\"SELECT {sum_by}, SUM(ca01)\n",
    "                FROM wa_jobs_2017 jobs\n",
    "                JOIN wa_geo_xwalk geo\n",
    "                ON jobs.w_geocode = geo.tabblk2010\n",
    "                JOIN ct_puma_xwalk puma\n",
    "                ON geo.trct = CONCAT(puma.statefp, puma.countyfp, puma.tractce)\n",
    "                WHERE puma5ce between '11610' and '11615'\n",
    "                GROUP BY {sum_by}\"\"\", conn)"
   ]
  },
  {
   "cell_type": "code",
   "execution_count": 131,
   "metadata": {},
   "outputs": [
    {
     "data": {
      "text/html": "<div>\n<style scoped>\n    .dataframe tbody tr th:only-of-type {\n        vertical-align: middle;\n    }\n\n    .dataframe tbody tr th {\n        vertical-align: top;\n    }\n\n    .dataframe thead th {\n        text-align: right;\n    }\n</style>\n<table border=\"1\" class=\"dataframe\">\n  <thead>\n    <tr style=\"text-align: right;\">\n      <th></th>\n      <th>puma5ce</th>\n      <th>sum</th>\n    </tr>\n  </thead>\n  <tbody>\n    <tr>\n      <th>0</th>\n      <td>11610</td>\n      <td>8289</td>\n    </tr>\n    <tr>\n      <th>1</th>\n      <td>11611</td>\n      <td>25568</td>\n    </tr>\n    <tr>\n      <th>2</th>\n      <td>11612</td>\n      <td>9096</td>\n    </tr>\n    <tr>\n      <th>3</th>\n      <td>11613</td>\n      <td>14723</td>\n    </tr>\n    <tr>\n      <th>4</th>\n      <td>11614</td>\n      <td>12036</td>\n    </tr>\n    <tr>\n      <th>5</th>\n      <td>11615</td>\n      <td>5621</td>\n    </tr>\n  </tbody>\n</table>\n</div>",
      "text/plain": "  puma5ce    sum\n0   11610   8289\n1   11611  25568\n2   11612   9096\n3   11613  14723\n4   11614  12036\n5   11615   5621"
     },
     "execution_count": 131,
     "metadata": {},
     "output_type": "execute_result"
    }
   ],
   "source": [
    "pd.read_sql(\"\"\"SELECT puma5ce, SUM(ca01)\n",
    "               FROM wa_jobs_2017 jobs\n",
    "               JOIN wa_geo_xwalk geo\n",
    "               ON jobs.w_geocode = geo.tabblk2010\n",
    "               JOIN ct_puma_xwalk puma\n",
    "               ON geo.trct = CONCAT(puma.statefp, puma.countyfp, puma.tractce)\n",
    "               WHERE puma5ce between '11610' and '11615'\n",
    "               GROUP BY puma5ce\"\"\", conn)"
   ]
  },
  {
   "cell_type": "code",
   "execution_count": null,
   "metadata": {},
   "outputs": [],
   "source": []
  }
 ]
}