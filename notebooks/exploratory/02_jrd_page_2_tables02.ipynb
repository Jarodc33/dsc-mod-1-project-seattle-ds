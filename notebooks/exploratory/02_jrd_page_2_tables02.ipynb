{
 "nbformat": 4,
 "nbformat_minor": 2,
 "metadata": {
  "language_info": {
   "name": "python",
   "codemirror_mode": {
    "name": "ipython",
    "version": 3
   },
   "version": "3.8.1-final"
  },
  "orig_nbformat": 2,
  "file_extension": ".py",
  "mimetype": "text/x-python",
  "name": "python",
  "npconvert_exporter": "python",
  "pygments_lexer": "ipython3",
  "version": 3,
  "kernelspec": {
   "name": "python3",
   "display_name": "Python 3"
  }
 },
 "cells": [
  {
   "cell_type": "code",
   "execution_count": 41,
   "metadata": {},
   "outputs": [
    {
     "data": {
      "text/plain": "10614.0"
     },
     "execution_count": 41,
     "metadata": {},
     "output_type": "execute_result"
    }
   ],
   "source": [
    "import pandas as pd\n",
    "import psycopg2\n",
    "\n",
    "conn = psycopg2.connect(dbname = 'opportunity_youth')\n",
    "\n",
    "sql_str = \"SELECT pwgtp, SCH, ESR, puma, agep FROM pums_2017 WHERE SCH = '1' and (ESR = '3' or ESR = '6') and (puma between '11610' and '11615') and (agep between '16' and '24')\"\n",
    "puma_num_totals = pd.read_sql(f\"\"\"SELECT puma, SUM(pwgtp) AS TotalPeople FROM ({sql_str}) AS a GROUP BY puma\"\"\", conn)\n",
    "\n",
    "def youth_in_region(conn, conditions = ''):\n",
    "    \"\"\"\n",
    "    Gets the approximate population from the pums 2017 database that are youth in south king county that also follow the given sql conditions\n",
    "\n",
    "    Parameters\n",
    "    ----------\n",
    "    conn: connection to database\n",
    "    conditions: extra sql conditions for the rows to follow\n",
    "\n",
    "    Returns\n",
    "    -------\n",
    "    returns: sum of the population weights of the desired rows (this represents the population with the given conditions)\n",
    "    \"\"\"\n",
    "    if conditions: conditions = \" and \" + conditions\n",
    "    return pd.read_sql(f\"\"\"SELECT SUM(pwgtp) FROM pums_2017 WHERE (puma between '11610' and '11615') and (agep between '16' and '24'){conditions}\"\"\", conn)\n",
    "\n",
    "\n",
    "def race_breakdown(conn, race_check_statement = ''):\n",
    "    \"\"\"\n",
    "    Does sql calls that will get information about race breakdown for youth in south king county\n",
    "\n",
    "    Parameters\n",
    "    ----------\n",
    "    race_check_statement: sql statement that will identify a certain race\n",
    "    conn: Database connection\n",
    "\n",
    "    Returns\n",
    "    -------\n",
    "    returns: dictionary of 4 population sums that match\n",
    "             https://roadmapproject.org/wp-content/uploads/2018/09/Opportunity-Youth-2016-Data-Brief-v2.pdf\n",
    "             page 2 of the race table given the race check statement\n",
    "    \"\"\" \n",
    "    df_dict = {}\n",
    "    has_no_ged = \"\"\"(SCHL = '15' or SCHL = '01' or SCHL = '14' or SCHL = '13' or SCHL = '12' or SCHL = '11' or SCHL = '10' or SCHL = '9')\"\"\"\n",
    "    df_dict['total'] =                      youth_in_region(conn, f\"\"\"{race_check_statement}\"\"\") # total of a race\n",
    "    if race_check_statement: race_check_statement += ' and '\n",
    "    df_dict['opportunity youth'] =          youth_in_region(conn, f\"\"\"{race_check_statement}SCH = '1' and (ESR = '3' or ESR = '6')\"\"\") # total OY of race\n",
    "    df_dict['working without diploma'] =    youth_in_region(conn, f\"\"\"{race_check_statement}(SCH = '1')\n",
    "                                                                                             and {has_no_ged}\n",
    "                                                                                             and (ESR != '3' and ESR != '6')\"\"\") # working with no GED\n",
    "    df_dict['not opportunity youth'] =      youth_in_region(conn, f\"\"\"{race_check_statement}((not {has_no_ged}\n",
    "                                                                                             and (ESR != '3' and ESR != '6'))\n",
    "                                                                                             or (SCH != '1'))\"\"\") # The rest of the age pop\n",
    "\n",
    "    return df_dict\n",
    "\n",
    "\n",
    "\n",
    "youth_in_region(conn, \"\"\"SCH = '1' and (ESR = '3' or ESR = '6')\"\"\") # total\n",
    "hisp = race_breakdown(conn, \"\"\"RAC1P  = '8' and HISP != '01'\"\"\")\n",
    "black = race_breakdown(conn, \"\"\"RAC1P = '2'\"\"\")\n",
    "white = race_breakdown(conn, \"\"\"RAC1P = '1'\"\"\")\n",
    "non_white = race_breakdown(conn, \"\"\"RAC1P != '1' and RAC1P != '2' and RAC1P != '8' and HISP = '01'\"\"\")\n",
    "all_race = {}\n",
    "for i in hisp.keys(): all_race[i] = hisp[i] + black[i] + white[i] + non_white[i]\n",
    "\n",
    "\n",
    "conn.close()\n",
    "\n",
    "puma_num_totals['totalpeople'].sum()"
   ]
  },
  {
   "cell_type": "code",
   "execution_count": null,
   "metadata": {},
   "outputs": [],
   "source": []
  },
  {
   "cell_type": "code",
   "execution_count": null,
   "metadata": {},
   "outputs": [],
   "source": []
  },
  {
   "cell_type": "code",
   "execution_count": null,
   "metadata": {},
   "outputs": [],
   "source": []
  },
  {
   "cell_type": "code",
   "execution_count": null,
   "metadata": {},
   "outputs": [],
   "source": []
  },
  {
   "cell_type": "code",
   "execution_count": 255,
   "metadata": {},
   "outputs": [],
   "source": [
    "import pandas as pd\n",
    "import psycopg2\n",
    "\n",
    "\"\"\"\n",
    "Notes for making use of these methods\n",
    "\n",
    "Types of methods\n",
    "Split Method:     Splits a dataframe into multiple data frames with certain conditions. Returns a dictionary of these splits\n",
    "Filter Method:    Filters a dataframe to follow a certain trait.\n",
    "Breakdown Method: Takes a dataframe and breaks up the data into their respective categories and sums up the weighted population\n",
    "                  This is like a split method but sums up the weights.\n",
    "!!!\n",
    "Breakdown must make a total key if you want a table with percentage\n",
    "!!!\n",
    "All these methods are also usefull outside the breakdow_by_split method\n",
    "\n",
    "breakdown_by_split will split a given dataframe, filter it (optional), and break it down\n",
    "\"\"\"\n",
    "\n",
    "def breakdown_by_split(df, split, breakdown, optional_filter = None):\n",
    "    \"\"\"\n",
    "    Gives the oy breakdown by race for hispanic, black, white, and other\n",
    "\n",
    "    Parameters\n",
    "    ----------\n",
    "    df: dataframe to be broken into race and then oportunity youth stats\n",
    "    split: function that with split the tables into multiple tables\n",
    "    breakdown: function that will break the tables into subcategories an get the sums\n",
    "    optional_filter: if a function is given, this will filter each table after being split\n",
    "\n",
    "    Returns\n",
    "    -------\n",
    "    Dictionary of dictionarys where the keys are the race and the values are the breakdown sums\n",
    "    \"\"\"\n",
    "    dct = {}\n",
    "    groups = split(df)\n",
    "    for group in groups.keys():\n",
    "        if optional_filter:\n",
    "            dct[group] = breakdown(optional_filter(groups[group]))\n",
    "        else:\n",
    "            dct[group] = breakdown(groups[group])\n",
    "    return dct\n",
    "\n",
    "def filter_oy(df):\n",
    "    \"\"\"\n",
    "    Gets OY from df\n",
    "    \"\"\"\n",
    "    return df[(df['sch'] == '1') & ((df['esr'] == '3') | (df['esr'] == '6'))]\n",
    "\n",
    "def split_by4_race(df):\n",
    "    \"\"\"\n",
    "    Breaks the dataframe into hispanic, black, white, and other\n",
    "\n",
    "    Parameters\n",
    "    ----------\n",
    "    df: data frame to be split up\n",
    "\n",
    "    Returns\n",
    "    -------\n",
    "    dictionary of daraframes split by race\n",
    "    \"\"\"\n",
    "    dct = {}\n",
    "    dct['total']            = df.copy()\n",
    "    dct['hispanic']         = df[(df['hisp'] != '01')]\n",
    "    dct['african american'] = df[(df['rac1p'] == '2') & (df['hisp'] == '01')]\n",
    "    dct['white']            = df[(df['rac1p'] == '1') & (df['hisp'] == '01')]\n",
    "    dct['other']            = df[(df['rac1p'] != '1') & (df['rac1p'] != '2') & (df['hisp'] == '01')]\n",
    "    return dct\n",
    "\n",
    "def split_by_age(df):\n",
    "    \"\"\"\n",
    "    Breaks the dataframe into 16-18, 19-21, 22-24\n",
    "\n",
    "    Parameters\n",
    "    ----------\n",
    "    df: data frame to be split up\n",
    "\n",
    "    Returns\n",
    "    -------\n",
    "    dictionary of daraframes split by age\n",
    "    \"\"\"\n",
    "    dct = {}\n",
    "    dct['total'] = df.copy()\n",
    "    dct['16-18'] = df[((df['agep'] >= 16) & (df['agep'] <= 18))]\n",
    "    dct['19-21'] = df[((df['agep'] >= 19) & (df['agep'] <= 21))]\n",
    "    dct['22-24'] = df[((df['agep'] >= 22) & (df['agep'] <= 24))]\n",
    "    return dct\n",
    "\n",
    "\n",
    "def split_by_all_race(df):\n",
    "    \"\"\"\n",
    "    Breaks the dataframe into many races\n",
    "\n",
    "    Parameters\n",
    "    ----------\n",
    "    df: data frame to be split up\n",
    "\n",
    "    Returns\n",
    "    -------\n",
    "    dictionary of daraframes split by race\n",
    "    \"\"\"\n",
    "    dct = {}\n",
    "    dct['total']                                = df.copy()\n",
    "    dct['native american']                      = df[(df['rac1p'].isin(['3', '4', '5']) & (df['hisp'] == '01'))]\n",
    "    dct['pacific islander and native hawaiian'] = df[(df['rac1p'].isin(['7']) & (df['hisp'] == '01'))]\n",
    "    dct['african american']                     = df[(df['rac1p'].isin(['2']) & (df['hisp'] == '01'))]\n",
    "    dct['hispanic']                             = df[((df['hisp'] != '01') & (df['rac1p'].isin(['8'])))] \n",
    "    dct['asian']                                = df[(df['rac1p'].isin(['6']) & (df['hisp'] == '01'))]\n",
    "    dct['white']                                = df[(df['rac1p'].isin(['1']) & (df['hisp'] == '01'))]\n",
    "    dct['two or more']                          = df[(df['rac1p'].isin(['9']) & (df['hisp'] == '01'))]\n",
    "    dct['other']                                = df[(df['rac1p'].isin(['8']))]\n",
    "    return dct\n",
    "\n",
    "def oy_breakdown(df):\n",
    "    \"\"\"\n",
    "    Breaks the dataframe into 4 dataframes and gives the number of people in that data frame the 4 dataframes are total, oy, working without diploma, not oy\n",
    "\n",
    "    Parameters\n",
    "    ----------\n",
    "    df: dataframe to be brokendown\n",
    "\n",
    "    Returns\n",
    "    -------\n",
    "    dictionary of the specified dataframe totals\n",
    "    \"\"\"\n",
    "    dct = {}\n",
    "    dct['total'] =      df['pwgtp'].sum() # total sum\n",
    "    dct['oy'] =         filter_oy(df)['pwgtp'].sum() # not working and not in school\n",
    "    dct['working'] =    df[(df['sch'] == '1')\n",
    "                            & (df['schl'].isin(['15', '14', '13', '12', '11', '10', '09', '08', '07', '06', '05', '04', '03', '01']))\n",
    "                            & ((df['esr'] != '3') & (df['esr'] != '6'))]['pwgtp'].sum() # working with no GED\n",
    "    dct['not oy'] =     df[((~df['schl'].isin(['15', '14', '13', '12', '11', '10', '09', '08', '07', '06', '05', '04', '03', '01']) & ((df['esr'] != '3') & (df['esr'] != '6')))\n",
    "                            | (df['sch'] != '1'))]['pwgtp'].sum() # either in school or working with a GED\n",
    "    return dct\n",
    "\n",
    "def education_breakdown(df):\n",
    "    \"\"\"\n",
    "    Breaks the dataframe into education acheivment totals\n",
    "\n",
    "    Parameters\n",
    "    ----------\n",
    "    df: dataframe to be broken into education achievement\n",
    "\n",
    "    Returns\n",
    "    -------\n",
    "    Dictionary of the total number of people with education achievement level\n",
    "    \"\"\"\n",
    "    dct = {}\n",
    "    dct['total']        = df.copy()['pwgtp'].sum()\n",
    "    dct['no diploma']   = df[df['schl'].isin(['15', '14', '13', '12', '11', '10', '09', '08', '07', '06', '05', '04', '03', '02', '01'])]['pwgtp'].sum()\n",
    "    dct['diploma']      = df[df['schl'].isin(['16', '17'])]['pwgtp'].sum()\n",
    "    dct['some college'] = df[df['schl'].isin(['18', '19'])]['pwgtp'].sum()\n",
    "    dct['degree']       = df[df['schl'].isin(['20', '21', '22', '23', '24'])]['pwgtp'].sum()\n",
    "\n",
    "    return dct\n",
    "\n",
    "\n",
    "\n",
    "\n",
    "\n",
    "def make_table_with_percentage(dct): # TODO Comment on this\n",
    "    \"\"\"\n",
    "    Makes a table with percentage with the top row being the total of entries bellow\n",
    "    \"\"\"\n",
    "    df = __get_as_df(dct)\n",
    "    return __add_percentage(df)\n",
    "\n",
    "def make_table_without_percentage(dct):\n",
    "    \"\"\"\n",
    "    Makes a table from a dictionary of dictionarys\n",
    "    \"\"\"\n",
    "    return __get_as_df(dct)\n",
    "\n",
    "def __get_as_df(dct):\n",
    "    \"\"\"\n",
    "    Helper for make_table_with_percentage\n",
    "    \"\"\"\n",
    "    df = pd.DataFrame(dct)\n",
    "    df.columns = df.columns.str.title()\n",
    "    cols = list(df.columns)\n",
    "    if 'Total' in cols:\n",
    "        cols.remove('Total')\n",
    "        df = df[cols + ['Total']]\n",
    "    df.index = df.index.str.title()\n",
    "    return df\n",
    "\n",
    "def __add_percentage(df):\n",
    "    \"\"\"\n",
    "    Helper for make_table_with_percentage\n",
    "    \"\"\"\n",
    "    new_frame = df.copy()\n",
    "    for column in new_frame:\n",
    "        new_column = [str(int(round(100 * element / new_frame[column][0])))\n",
    "                      + '% ' + str(int(element)) for element in new_frame[column]]\n",
    "        new_frame[column] = new_column\n",
    "    return new_frame\n",
    "\n",
    "def page_2_dicts(df): # TODO Better comments!\n",
    "    # Makes dictionarys for all the tables on page 2\n",
    "    four_races     = breakdown_by_split(df, split_by4_race,    oy_breakdown)\n",
    "    age            = breakdown_by_split(df, split_by_age,      oy_breakdown)\n",
    "    edu_and_age    = breakdown_by_split(df, split_by_age,      education_breakdown, filter_oy)\n",
    "    oy_by_all_race = breakdown_by_split(df, split_by_all_race, oy_breakdown)\n",
    "    \n",
    "    pop_by_race = {i : oy_by_all_race[i]['total'] for i in oy_by_all_race}  #  \n",
    "    oy_by_race = {i : oy_by_all_race[i]['oy'] for i in oy_by_all_race}      # This transposes the dictionary\n",
    "    race = {'Population Total' : pop_by_race, 'OY Total' : oy_by_race}      # \n",
    "\n",
    "    return four_races, age, edu_and_age, race\n",
    "\n",
    "def page_2_tables(df): # TODO COMMENT MORE\n",
    "    \"\"\"\n",
    "    df: dataframe of region and age range\n",
    "    returns 4 dataframes that match the table on page 2 of the reference 2016 document\n",
    "    \"\"\"\n",
    "    four_race_dict, age_dict, edu_dict, races_dict = page_2_dicts(df)\n",
    "\n",
    "    four_race = make_table_with_percentage(four_race_dict)\n",
    "    age       = make_table_with_percentage(age_dict)\n",
    "    education = make_table_with_percentage(edu_dict)\n",
    "    all_races = __fix_all_race_table(pd.DataFrame(races_dict))\n",
    "\n",
    "    return four_race, age, education, all_races\n",
    "\n",
    "def __fix_all_race_table(all_races): # TODO COMMENT!!!!\n",
    "    \"\"\"\n",
    "    Helper method to add percentages to the all race table\n",
    "    \"\"\"\n",
    "    new_col = ['100% ' + str(int(all_races['Population Total'][0]))]\n",
    "    for index, element in enumerate(all_races['Population Total'][1:]):\n",
    "        ratio = all_races['OY Total'][index + 1] / element\n",
    "        new_col.append(str(int(round(100 * ratio))) + '% ' + str(int(element)))\n",
    "    all_races['Population Total'] = new_col\n",
    "\n",
    "    all_races['OY Total'] = [str(int(round(100 * element / all_races['OY Total'][0]))) + '% ' + str(int(element)) for element in all_races['OY Total']]\n",
    "    all_races.index = all_races.index.str.title()\n",
    "    return all_races\n",
    "\n",
    "\n",
    "def get_youth_by_puma(start_puma = 11610, end_puma = 11615, dbname = 'opportunity_youth'):\n",
    "    \"\"\"\n",
    "    Gives a table of youth from a given PUMA Range based on a given database name.\n",
    "    Defaults are set for each parameter\n",
    "    \"\"\"\n",
    "    conn = psycopg2.connect(dbname = dbname)\n",
    "    df = pd.read_sql(f\"SELECT * FROM pums_2017 WHERE (puma between '{start_puma}' and '{end_puma}') and (agep between '16' and '24')\", conn)\n",
    "    conn.close()\n",
    "    return df\n",
    "\n",
    "def get_oy_by_puma(start_puma = 11610, end_puma = 11615, dbname = 'opportunity_youth'):\n",
    "    \"\"\"\n",
    "    Will Give a table of the OY for each PUMA in a range of pumas given from a given database\n",
    "    Defaults are set for each parameter\n",
    "    \"\"\"\n",
    "    sql_str = f\"\"\"SELECT pwgtp, SCH, ESR, puma, agep\n",
    "                  FROM pums_2017\n",
    "                  WHERE SCH = '1' and (ESR = '3' or ESR = '6') and (puma between '{start_puma}' and '{end_puma}') and (agep between '16' and '24')\"\"\"\n",
    "    conn = psycopg2.connect(dbname = dbname)\n",
    "    oy_by_puma = pd.read_sql(f\"\"\"SELECT puma, SUM(pwgtp) AS TotalPeople FROM ({sql_str}) AS a GROUP BY puma\"\"\", conn)\n",
    "    conn.close()\n",
    "    return oy_by_puma\n"
   ]
  },
  {
   "cell_type": "code",
   "execution_count": 256,
   "metadata": {},
   "outputs": [],
   "source": [
    "# initialize df with rows of youth in the area\n",
    "total_youth_unweighted = get_youth_by_puma(start_puma = 11610, end_puma = 11615, dbname = 'opportunity_youth')\n",
    "oy_by_puma = get_oy_by_puma(start_puma = 11610, end_puma = 11615, dbname = 'opportunity_youth')"
   ]
  },
  {
   "cell_type": "code",
   "execution_count": 257,
   "metadata": {},
   "outputs": [
    {
     "data": {
      "text/html": "<div>\n<style scoped>\n    .dataframe tbody tr th:only-of-type {\n        vertical-align: middle;\n    }\n\n    .dataframe tbody tr th {\n        vertical-align: top;\n    }\n\n    .dataframe thead th {\n        text-align: right;\n    }\n</style>\n<table border=\"1\" class=\"dataframe\">\n  <thead>\n    <tr style=\"text-align: right;\">\n      <th></th>\n      <th>puma</th>\n      <th>totalpeople</th>\n    </tr>\n  </thead>\n  <tbody>\n    <tr>\n      <th>0</th>\n      <td>11610</td>\n      <td>1853.0</td>\n    </tr>\n    <tr>\n      <th>1</th>\n      <td>11611</td>\n      <td>2038.0</td>\n    </tr>\n    <tr>\n      <th>2</th>\n      <td>11612</td>\n      <td>1977.0</td>\n    </tr>\n    <tr>\n      <th>3</th>\n      <td>11613</td>\n      <td>2006.0</td>\n    </tr>\n    <tr>\n      <th>4</th>\n      <td>11614</td>\n      <td>1530.0</td>\n    </tr>\n    <tr>\n      <th>5</th>\n      <td>11615</td>\n      <td>1210.0</td>\n    </tr>\n  </tbody>\n</table>\n</div>",
      "text/plain": "    puma  totalpeople\n0  11610       1853.0\n1  11611       2038.0\n2  11612       1977.0\n3  11613       2006.0\n4  11614       1530.0\n5  11615       1210.0"
     },
     "execution_count": 257,
     "metadata": {},
     "output_type": "execute_result"
    }
   ],
   "source": [
    "oy_by_puma"
   ]
  },
  {
   "cell_type": "code",
   "execution_count": 258,
   "metadata": {},
   "outputs": [],
   "source": [
    "four_race, age, education, all_races = page_2_tables(total_youth_unweighted)\n",
    "four_race_dct, age_dct, education_dct, all_races_dct = page_2_dicts(total_youth_unweighted)"
   ]
  },
  {
   "cell_type": "code",
   "execution_count": 259,
   "metadata": {},
   "outputs": [
    {
     "data": {
      "text/html": "<div>\n<style scoped>\n    .dataframe tbody tr th:only-of-type {\n        vertical-align: middle;\n    }\n\n    .dataframe tbody tr th {\n        vertical-align: top;\n    }\n\n    .dataframe thead th {\n        text-align: right;\n    }\n</style>\n<table border=\"1\" class=\"dataframe\">\n  <thead>\n    <tr style=\"text-align: right;\">\n      <th></th>\n      <th>Hispanic</th>\n      <th>African American</th>\n      <th>White</th>\n      <th>Other</th>\n      <th>Total</th>\n    </tr>\n  </thead>\n  <tbody>\n    <tr>\n      <th>Total</th>\n      <td>100% 15942</td>\n      <td>100% 8630</td>\n      <td>100% 38759</td>\n      <td>100% 22552</td>\n      <td>100% 85883</td>\n    </tr>\n    <tr>\n      <th>Oy</th>\n      <td>13% 2133</td>\n      <td>15% 1315</td>\n      <td>11% 4392</td>\n      <td>12% 2774</td>\n      <td>12% 10614</td>\n    </tr>\n    <tr>\n      <th>Working</th>\n      <td>10% 1542</td>\n      <td>3% 287</td>\n      <td>3% 1165</td>\n      <td>2% 486</td>\n      <td>4% 3480</td>\n    </tr>\n    <tr>\n      <th>Not Oy</th>\n      <td>77% 12267</td>\n      <td>81% 7028</td>\n      <td>86% 33202</td>\n      <td>86% 19292</td>\n      <td>84% 71789</td>\n    </tr>\n  </tbody>\n</table>\n</div>",
      "text/plain": "           Hispanic African American       White       Other       Total\nTotal    100% 15942        100% 8630  100% 38759  100% 22552  100% 85883\nOy         13% 2133         15% 1315    11% 4392    12% 2774   12% 10614\nWorking    10% 1542           3% 287     3% 1165      2% 486     4% 3480\nNot Oy    77% 12267         81% 7028   86% 33202   86% 19292   84% 71789"
     },
     "execution_count": 259,
     "metadata": {},
     "output_type": "execute_result"
    }
   ],
   "source": [
    "four_race"
   ]
  },
  {
   "cell_type": "code",
   "execution_count": 260,
   "metadata": {},
   "outputs": [
    {
     "data": {
      "text/html": "<div>\n<style scoped>\n    .dataframe tbody tr th:only-of-type {\n        vertical-align: middle;\n    }\n\n    .dataframe tbody tr th {\n        vertical-align: top;\n    }\n\n    .dataframe thead th {\n        text-align: right;\n    }\n</style>\n<table border=\"1\" class=\"dataframe\">\n  <thead>\n    <tr style=\"text-align: right;\">\n      <th></th>\n      <th>16-18</th>\n      <th>19-21</th>\n      <th>22-24</th>\n      <th>Total</th>\n    </tr>\n  </thead>\n  <tbody>\n    <tr>\n      <th>Total</th>\n      <td>100% 30141</td>\n      <td>100% 25486</td>\n      <td>100% 30256</td>\n      <td>100% 85883</td>\n    </tr>\n    <tr>\n      <th>Oy</th>\n      <td>6% 1815</td>\n      <td>15% 3902</td>\n      <td>16% 4897</td>\n      <td>12% 10614</td>\n    </tr>\n    <tr>\n      <th>Working</th>\n      <td>1% 449</td>\n      <td>5% 1400</td>\n      <td>5% 1631</td>\n      <td>4% 3480</td>\n    </tr>\n    <tr>\n      <th>Not Oy</th>\n      <td>92% 27877</td>\n      <td>79% 20184</td>\n      <td>78% 23728</td>\n      <td>84% 71789</td>\n    </tr>\n  </tbody>\n</table>\n</div>",
      "text/plain": "              16-18       19-21       22-24       Total\nTotal    100% 30141  100% 25486  100% 30256  100% 85883\nOy          6% 1815    15% 3902    16% 4897   12% 10614\nWorking      1% 449     5% 1400     5% 1631     4% 3480\nNot Oy    92% 27877   79% 20184   78% 23728   84% 71789"
     },
     "execution_count": 260,
     "metadata": {},
     "output_type": "execute_result"
    }
   ],
   "source": [
    "age"
   ]
  },
  {
   "cell_type": "code",
   "execution_count": 261,
   "metadata": {},
   "outputs": [
    {
     "data": {
      "text/html": "<div>\n<style scoped>\n    .dataframe tbody tr th:only-of-type {\n        vertical-align: middle;\n    }\n\n    .dataframe tbody tr th {\n        vertical-align: top;\n    }\n\n    .dataframe thead th {\n        text-align: right;\n    }\n</style>\n<table border=\"1\" class=\"dataframe\">\n  <thead>\n    <tr style=\"text-align: right;\">\n      <th></th>\n      <th>16-18</th>\n      <th>19-21</th>\n      <th>22-24</th>\n      <th>Total</th>\n    </tr>\n  </thead>\n  <tbody>\n    <tr>\n      <th>Total</th>\n      <td>100% 1815</td>\n      <td>100% 3902</td>\n      <td>100% 4897</td>\n      <td>100% 10614</td>\n    </tr>\n    <tr>\n      <th>No Diploma</th>\n      <td>50% 916</td>\n      <td>28% 1112</td>\n      <td>28% 1349</td>\n      <td>32% 3377</td>\n    </tr>\n    <tr>\n      <th>Diploma</th>\n      <td>43% 781</td>\n      <td>56% 2176</td>\n      <td>44% 2135</td>\n      <td>48% 5092</td>\n    </tr>\n    <tr>\n      <th>Some College</th>\n      <td>7% 118</td>\n      <td>13% 521</td>\n      <td>20% 1000</td>\n      <td>15% 1639</td>\n    </tr>\n    <tr>\n      <th>Degree</th>\n      <td>0% 0</td>\n      <td>2% 93</td>\n      <td>8% 413</td>\n      <td>5% 506</td>\n    </tr>\n  </tbody>\n</table>\n</div>",
      "text/plain": "                  16-18      19-21      22-24       Total\nTotal         100% 1815  100% 3902  100% 4897  100% 10614\nNo Diploma      50% 916   28% 1112   28% 1349    32% 3377\nDiploma         43% 781   56% 2176   44% 2135    48% 5092\nSome College     7% 118    13% 521   20% 1000    15% 1639\nDegree             0% 0      2% 93     8% 413      5% 506"
     },
     "execution_count": 261,
     "metadata": {},
     "output_type": "execute_result"
    }
   ],
   "source": [
    "education"
   ]
  },
  {
   "cell_type": "code",
   "execution_count": 264,
   "metadata": {},
   "outputs": [
    {
     "data": {
      "text/html": "<div>\n<style scoped>\n    .dataframe tbody tr th:only-of-type {\n        vertical-align: middle;\n    }\n\n    .dataframe tbody tr th {\n        vertical-align: top;\n    }\n\n    .dataframe thead th {\n        text-align: right;\n    }\n</style>\n<table border=\"1\" class=\"dataframe\">\n  <thead>\n    <tr style=\"text-align: right;\">\n      <th></th>\n      <th>Population Total</th>\n      <th>OY Total</th>\n    </tr>\n  </thead>\n  <tbody>\n    <tr>\n      <th>Total</th>\n      <td>100% 85883</td>\n      <td>100% 10614</td>\n    </tr>\n    <tr>\n      <th>Native American</th>\n      <td>41% 851</td>\n      <td>3% 347</td>\n    </tr>\n    <tr>\n      <th>Pacific Islander And Native Hawaiian</th>\n      <td>20% 1814</td>\n      <td>3% 360</td>\n    </tr>\n    <tr>\n      <th>African American</th>\n      <td>15% 8630</td>\n      <td>12% 1315</td>\n    </tr>\n    <tr>\n      <th>Hispanic</th>\n      <td>14% 7003</td>\n      <td>9% 949</td>\n    </tr>\n    <tr>\n      <th>Asian</th>\n      <td>9% 13239</td>\n      <td>11% 1189</td>\n    </tr>\n    <tr>\n      <th>White</th>\n      <td>11% 38759</td>\n      <td>41% 4392</td>\n    </tr>\n    <tr>\n      <th>Two Or More</th>\n      <td>14% 6353</td>\n      <td>8% 862</td>\n    </tr>\n    <tr>\n      <th>Other</th>\n      <td>13% 7298</td>\n      <td>9% 965</td>\n    </tr>\n  </tbody>\n</table>\n</div>",
      "text/plain": "                                     Population Total    OY Total\nTotal                                      100% 85883  100% 10614\nNative American                               41% 851      3% 347\nPacific Islander And Native Hawaiian         20% 1814      3% 360\nAfrican American                             15% 8630    12% 1315\nHispanic                                     14% 7003      9% 949\nAsian                                        9% 13239    11% 1189\nWhite                                       11% 38759    41% 4392\nTwo Or More                                  14% 6353      8% 862\nOther                                        13% 7298      9% 965"
     },
     "execution_count": 264,
     "metadata": {},
     "output_type": "execute_result"
    }
   ],
   "source": [
    "all_races"
   ]
  },
  {
   "cell_type": "code",
   "execution_count": 265,
   "metadata": {},
   "outputs": [
    {
     "data": {
      "text/html": "<div>\n<style scoped>\n    .dataframe tbody tr th:only-of-type {\n        vertical-align: middle;\n    }\n\n    .dataframe tbody tr th {\n        vertical-align: top;\n    }\n\n    .dataframe thead th {\n        text-align: right;\n    }\n</style>\n<table border=\"1\" class=\"dataframe\">\n  <thead>\n    <tr style=\"text-align: right;\">\n      <th></th>\n      <th>Male</th>\n      <th>Female</th>\n    </tr>\n  </thead>\n  <tbody>\n    <tr>\n      <th>Total</th>\n      <td>100% 45286</td>\n      <td>100% 40597</td>\n    </tr>\n    <tr>\n      <th>Oy</th>\n      <td>11% 4949</td>\n      <td>14% 5665</td>\n    </tr>\n    <tr>\n      <th>Working</th>\n      <td>5% 2135</td>\n      <td>3% 1345</td>\n    </tr>\n    <tr>\n      <th>Not Oy</th>\n      <td>84% 38202</td>\n      <td>83% 33587</td>\n    </tr>\n  </tbody>\n</table>\n</div>",
      "text/plain": "               Male      Female\nTotal    100% 45286  100% 40597\nOy         11% 4949    14% 5665\nWorking     5% 2135     3% 1345\nNot Oy    84% 38202   83% 33587"
     },
     "execution_count": 265,
     "metadata": {},
     "output_type": "execute_result"
    }
   ],
   "source": [
    "df = total_youth_unweighted.copy()\n",
    "dct = breakdown_by_split(df, lambda x: {'male' : x[x['sex'] == '1'], 'female' : x[x['sex'] == '2']}, oy_breakdown)\n",
    "make_table_with_percentage(dct)"
   ]
  },
  {
   "cell_type": "code",
   "execution_count": 266,
   "metadata": {},
   "outputs": [
    {
     "data": {
      "text/html": "<div>\n<style scoped>\n    .dataframe tbody tr th:only-of-type {\n        vertical-align: middle;\n    }\n\n    .dataframe tbody tr th {\n        vertical-align: top;\n    }\n\n    .dataframe thead th {\n        text-align: right;\n    }\n</style>\n<table border=\"1\" class=\"dataframe\">\n  <thead>\n    <tr style=\"text-align: right;\">\n      <th></th>\n      <th>Male</th>\n      <th>Female</th>\n    </tr>\n  </thead>\n  <tbody>\n    <tr>\n      <th>Total</th>\n      <td>100% 45286</td>\n      <td>100% 40597</td>\n    </tr>\n    <tr>\n      <th>No Diploma</th>\n      <td>37% 16603</td>\n      <td>36% 14808</td>\n    </tr>\n    <tr>\n      <th>Diploma</th>\n      <td>28% 12799</td>\n      <td>25% 10269</td>\n    </tr>\n    <tr>\n      <th>Some College</th>\n      <td>24% 10796</td>\n      <td>23% 9405</td>\n    </tr>\n    <tr>\n      <th>Degree</th>\n      <td>11% 5088</td>\n      <td>15% 6115</td>\n    </tr>\n  </tbody>\n</table>\n</div>",
      "text/plain": "                    Male      Female\nTotal         100% 45286  100% 40597\nNo Diploma     37% 16603   36% 14808\nDiploma        28% 12799   25% 10269\nSome College   24% 10796    23% 9405\nDegree          11% 5088    15% 6115"
     },
     "execution_count": 266,
     "metadata": {},
     "output_type": "execute_result"
    }
   ],
   "source": [
    "dct = breakdown_by_split(df, lambda x: {'male' : x[x['sex'] == '1'], 'female' : x[x['sex'] == '2']}, education_breakdown)\n",
    "make_table_with_percentage(dct)"
   ]
  },
  {
   "cell_type": "code",
   "execution_count": 267,
   "metadata": {},
   "outputs": [
    {
     "data": {
      "text/html": "<div>\n<style scoped>\n    .dataframe tbody tr th:only-of-type {\n        vertical-align: middle;\n    }\n\n    .dataframe tbody tr th {\n        vertical-align: top;\n    }\n\n    .dataframe thead th {\n        text-align: right;\n    }\n</style>\n<table border=\"1\" class=\"dataframe\">\n  <thead>\n    <tr style=\"text-align: right;\">\n      <th></th>\n      <th>Self Care Difficulty</th>\n      <th>Self Care Able</th>\n    </tr>\n  </thead>\n  <tbody>\n    <tr>\n      <th>Total</th>\n      <td>100% 680</td>\n      <td>100% 85203</td>\n    </tr>\n    <tr>\n      <th>Oy</th>\n      <td>37% 250</td>\n      <td>12% 10364</td>\n    </tr>\n    <tr>\n      <th>Working</th>\n      <td>8% 52</td>\n      <td>4% 3428</td>\n    </tr>\n    <tr>\n      <th>Not Oy</th>\n      <td>56% 378</td>\n      <td>84% 71411</td>\n    </tr>\n  </tbody>\n</table>\n</div>",
      "text/plain": "        Self Care Difficulty Self Care Able\nTotal               100% 680     100% 85203\nOy                   37% 250      12% 10364\nWorking                8% 52        4% 3428\nNot Oy               56% 378      84% 71411"
     },
     "execution_count": 267,
     "metadata": {},
     "output_type": "execute_result"
    }
   ],
   "source": [
    "dct = breakdown_by_split(df, lambda x: {'self care difficulty' : x[x['ddrs'] == '1'], 'self care able' : x[x['ddrs'] == '2']}, oy_breakdown)\n",
    "make_table_with_percentage(dct)"
   ]
  },
  {
   "cell_type": "code",
   "execution_count": 268,
   "metadata": {},
   "outputs": [
    {
     "data": {
      "text/html": "<div>\n<style scoped>\n    .dataframe tbody tr th:only-of-type {\n        vertical-align: middle;\n    }\n\n    .dataframe tbody tr th {\n        vertical-align: top;\n    }\n\n    .dataframe thead th {\n        text-align: right;\n    }\n</style>\n<table border=\"1\" class=\"dataframe\">\n  <thead>\n    <tr style=\"text-align: right;\">\n      <th></th>\n      <th>Hearing Difficulty</th>\n      <th>Hearing Able</th>\n    </tr>\n  </thead>\n  <tbody>\n    <tr>\n      <th>Total</th>\n      <td>100% 723</td>\n      <td>100% 85160</td>\n    </tr>\n    <tr>\n      <th>Oy</th>\n      <td>19% 137</td>\n      <td>12% 10477</td>\n    </tr>\n    <tr>\n      <th>Working</th>\n      <td>14% 103</td>\n      <td>4% 3377</td>\n    </tr>\n    <tr>\n      <th>Not Oy</th>\n      <td>67% 483</td>\n      <td>84% 71306</td>\n    </tr>\n  </tbody>\n</table>\n</div>",
      "text/plain": "        Hearing Difficulty Hearing Able\nTotal             100% 723   100% 85160\nOy                 19% 137    12% 10477\nWorking            14% 103      4% 3377\nNot Oy             67% 483    84% 71306"
     },
     "execution_count": 268,
     "metadata": {},
     "output_type": "execute_result"
    }
   ],
   "source": [
    "dct = breakdown_by_split(df, lambda x: {'hearing difficulty' : x[x['dear'] == '1'], 'hearing able' : x[x['dear'] == '2']}, oy_breakdown)\n",
    "make_table_with_percentage(dct)"
   ]
  },
  {
   "cell_type": "code",
   "execution_count": 269,
   "metadata": {},
   "outputs": [
    {
     "data": {
      "text/html": "<div>\n<style scoped>\n    .dataframe tbody tr th:only-of-type {\n        vertical-align: middle;\n    }\n\n    .dataframe tbody tr th {\n        vertical-align: top;\n    }\n\n    .dataframe thead th {\n        text-align: right;\n    }\n</style>\n<table border=\"1\" class=\"dataframe\">\n  <thead>\n    <tr style=\"text-align: right;\">\n      <th></th>\n      <th>Vision Difficulty</th>\n      <th>Vision Able</th>\n    </tr>\n  </thead>\n  <tbody>\n    <tr>\n      <th>Total</th>\n      <td>100% 921</td>\n      <td>100% 84962</td>\n    </tr>\n    <tr>\n      <th>Oy</th>\n      <td>7% 68</td>\n      <td>12% 10546</td>\n    </tr>\n    <tr>\n      <th>Working</th>\n      <td>1% 9</td>\n      <td>4% 3471</td>\n    </tr>\n    <tr>\n      <th>Not Oy</th>\n      <td>92% 844</td>\n      <td>84% 70945</td>\n    </tr>\n  </tbody>\n</table>\n</div>",
      "text/plain": "        Vision Difficulty Vision Able\nTotal            100% 921  100% 84962\nOy                  7% 68   12% 10546\nWorking              1% 9     4% 3471\nNot Oy            92% 844   84% 70945"
     },
     "execution_count": 269,
     "metadata": {},
     "output_type": "execute_result"
    }
   ],
   "source": [
    "dct = breakdown_by_split(df, lambda x: {'vision difficulty' : x[x['deye'] == '1'], 'vision able' : x[x['deye'] == '2']}, oy_breakdown)\n",
    "make_table_with_percentage(dct)"
   ]
  },
  {
   "cell_type": "code",
   "execution_count": 270,
   "metadata": {},
   "outputs": [
    {
     "data": {
      "text/html": "<div>\n<style scoped>\n    .dataframe tbody tr th:only-of-type {\n        vertical-align: middle;\n    }\n\n    .dataframe tbody tr th {\n        vertical-align: top;\n    }\n\n    .dataframe thead th {\n        text-align: right;\n    }\n</style>\n<table border=\"1\" class=\"dataframe\">\n  <thead>\n    <tr style=\"text-align: right;\">\n      <th></th>\n      <th>Independent Living Difficulty</th>\n      <th>Independent Living Able</th>\n    </tr>\n  </thead>\n  <tbody>\n    <tr>\n      <th>Total</th>\n      <td>100% 2355</td>\n      <td>100% 83528</td>\n    </tr>\n    <tr>\n      <th>Oy</th>\n      <td>42% 997</td>\n      <td>12% 9617</td>\n    </tr>\n    <tr>\n      <th>Working</th>\n      <td>4% 100</td>\n      <td>4% 3380</td>\n    </tr>\n    <tr>\n      <th>Not Oy</th>\n      <td>53% 1258</td>\n      <td>84% 70531</td>\n    </tr>\n  </tbody>\n</table>\n</div>",
      "text/plain": "        Independent Living Difficulty Independent Living Able\nTotal                       100% 2355              100% 83528\nOy                            42% 997                12% 9617\nWorking                        4% 100                 4% 3380\nNot Oy                       53% 1258               84% 70531"
     },
     "execution_count": 270,
     "metadata": {},
     "output_type": "execute_result"
    }
   ],
   "source": [
    "dct = breakdown_by_split(df, lambda x: {'independent living difficulty' : x[x['dout'] == '1'], 'independent living able' : x[x['dout'] == '2']}, oy_breakdown)\n",
    "make_table_with_percentage(dct)"
   ]
  },
  {
   "cell_type": "code",
   "execution_count": 271,
   "metadata": {},
   "outputs": [
    {
     "data": {
      "text/html": "<div>\n<style scoped>\n    .dataframe tbody tr th:only-of-type {\n        vertical-align: middle;\n    }\n\n    .dataframe tbody tr th {\n        vertical-align: top;\n    }\n\n    .dataframe thead th {\n        text-align: right;\n    }\n</style>\n<table border=\"1\" class=\"dataframe\">\n  <thead>\n    <tr style=\"text-align: right;\">\n      <th></th>\n      <th>Ambulatory Difficulty</th>\n      <th>Ambulatory Able</th>\n    </tr>\n  </thead>\n  <tbody>\n    <tr>\n      <th>Total</th>\n      <td>100% 633</td>\n      <td>100% 85250</td>\n    </tr>\n    <tr>\n      <th>Oy</th>\n      <td>37% 234</td>\n      <td>12% 10380</td>\n    </tr>\n    <tr>\n      <th>Working</th>\n      <td>0% 0</td>\n      <td>4% 3480</td>\n    </tr>\n    <tr>\n      <th>Not Oy</th>\n      <td>63% 399</td>\n      <td>84% 71390</td>\n    </tr>\n  </tbody>\n</table>\n</div>",
      "text/plain": "        Ambulatory Difficulty Ambulatory Able\nTotal                100% 633      100% 85250\nOy                    37% 234       12% 10380\nWorking                  0% 0         4% 3480\nNot Oy                63% 399       84% 71390"
     },
     "execution_count": 271,
     "metadata": {},
     "output_type": "execute_result"
    }
   ],
   "source": [
    "dct = breakdown_by_split(df, lambda x: {'ambulatory difficulty' : x[x['dphy'] == '1'], 'ambulatory able' : x[x['dphy'] == '2']}, oy_breakdown)\n",
    "make_table_with_percentage(dct)"
   ]
  },
  {
   "cell_type": "code",
   "execution_count": 266,
   "metadata": {},
   "outputs": [],
   "source": [
    "\n",
    "\n",
    "\n",
    "\n",
    "\n",
    "\n",
    "\n",
    "\n",
    "\n",
    "\n",
    "\n",
    "\n",
    "\n",
    "\n",
    "\n",
    "\n",
    "\n",
    "\n",
    "\n",
    "\n",
    "\n",
    "\n",
    "\n",
    "\n",
    "\n",
    "\n",
    "\n"
   ]
  }
 ]
}