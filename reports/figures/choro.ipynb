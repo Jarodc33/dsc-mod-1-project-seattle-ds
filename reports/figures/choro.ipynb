{
 "nbformat": 4,
 "nbformat_minor": 2,
 "metadata": {
  "language_info": {
   "name": "python",
   "codemirror_mode": {
    "name": "ipython",
    "version": 3
   },
   "version": "3.8.1-final"
  },
  "orig_nbformat": 2,
  "file_extension": ".py",
  "mimetype": "text/x-python",
  "name": "python",
  "npconvert_exporter": "python",
  "pygments_lexer": "ipython3",
  "version": 3,
  "kernelspec": {
   "name": "python38164bitda49c1fab01f49c4bd84a2e21fa74eef",
   "display_name": "Python 3.8.1 64-bit"
  }
 },
 "cells": [
  {
   "cell_type": "code",
   "execution_count": 85,
   "metadata": {},
   "outputs": [
    {
     "name": "stdout",
     "output_type": "stream",
     "text": "Requirement already satisfied: pandasql in /opt/anaconda3/envs/oy-env/lib/python3.8/site-packages (0.7.3)\nRequirement already satisfied: sqlalchemy in /opt/anaconda3/envs/oy-env/lib/python3.8/site-packages (from pandasql) (1.3.13)\nRequirement already satisfied: numpy in /opt/anaconda3/envs/oy-env/lib/python3.8/site-packages (from pandasql) (1.18.1)\nRequirement already satisfied: pandas in /opt/anaconda3/envs/oy-env/lib/python3.8/site-packages (from pandasql) (1.0.1)\nRequirement already satisfied: pytz>=2017.2 in /opt/anaconda3/envs/oy-env/lib/python3.8/site-packages (from pandas->pandasql) (2019.3)\nRequirement already satisfied: python-dateutil>=2.6.1 in /opt/anaconda3/envs/oy-env/lib/python3.8/site-packages (from pandas->pandasql) (2.8.1)\nRequirement already satisfied: six>=1.5 in /opt/anaconda3/envs/oy-env/lib/python3.8/site-packages (from python-dateutil>=2.6.1->pandas->pandasql) (1.14.0)\n"
    }
   ],
   "source": [
    "\n",
    "import pandas as pd\n",
    "import numpy as np\n",
    "import geopandas as gpd\n",
    "import matplotlib.pyplot as plt\n",
    "import psycopg2\n",
    "\n"
   ]
  },
  {
   "cell_type": "code",
   "execution_count": 128,
   "metadata": {},
   "outputs": [
    {
     "data": {
      "text/html": "<div>\n<style scoped>\n    .dataframe tbody tr th:only-of-type {\n        vertical-align: middle;\n    }\n\n    .dataframe tbody tr th {\n        vertical-align: top;\n    }\n\n    .dataframe thead th {\n        text-align: right;\n    }\n</style>\n<table border=\"1\" class=\"dataframe\">\n  <thead>\n    <tr style=\"text-align: right;\">\n      <th></th>\n      <th>GISMATCH</th>\n      <th>GISJOIN</th>\n      <th>GEOID</th>\n      <th>STATEFIP</th>\n      <th>State</th>\n      <th>PUMA</th>\n      <th>Name</th>\n      <th>geometry</th>\n    </tr>\n  </thead>\n  <tbody>\n    <tr>\n      <th>0</th>\n      <td>600105</td>\n      <td>G06000105</td>\n      <td>0600105</td>\n      <td>06</td>\n      <td>California</td>\n      <td>00105</td>\n      <td>Alameda County (West)--San Leandro, Alameda &amp; ...</td>\n      <td>MULTIPOLYGON (((-2258646.530 342733.341, -2258...</td>\n    </tr>\n    <tr>\n      <th>1</th>\n      <td>600102</td>\n      <td>G06000102</td>\n      <td>0600102</td>\n      <td>06</td>\n      <td>California</td>\n      <td>00102</td>\n      <td>Alameda County (Northwest)--Oakland (Northwest...</td>\n      <td>POLYGON ((-2259099.372 353383.127, -2259101.40...</td>\n    </tr>\n    <tr>\n      <th>2</th>\n      <td>608502</td>\n      <td>G06008502</td>\n      <td>0608502</td>\n      <td>06</td>\n      <td>California</td>\n      <td>08502</td>\n      <td>Santa Clara County (Northwest)--Sunnyvale &amp; Sa...</td>\n      <td>POLYGON ((-2246220.131 304622.390, -2246216.04...</td>\n    </tr>\n    <tr>\n      <th>3</th>\n      <td>600108</td>\n      <td>G06000108</td>\n      <td>0600108</td>\n      <td>06</td>\n      <td>California</td>\n      <td>00108</td>\n      <td>Alameda County (Southwest)--Union City, Newark...</td>\n      <td>MULTIPOLYGON (((-2247215.331 305414.315, -2247...</td>\n    </tr>\n    <tr>\n      <th>4</th>\n      <td>600107</td>\n      <td>G06000107</td>\n      <td>0600107</td>\n      <td>06</td>\n      <td>California</td>\n      <td>00107</td>\n      <td>Alameda County (Central)--Hayward City PUMA</td>\n      <td>POLYGON ((-2244205.948 331582.334, -2244209.13...</td>\n    </tr>\n  </tbody>\n</table>\n</div>",
      "text/plain": "   GISMATCH    GISJOIN    GEOID STATEFIP       State   PUMA  \\\n0    600105  G06000105  0600105       06  California  00105   \n1    600102  G06000102  0600102       06  California  00102   \n2    608502  G06008502  0608502       06  California  08502   \n3    600108  G06000108  0600108       06  California  00108   \n4    600107  G06000107  0600107       06  California  00107   \n\n                                                Name  \\\n0  Alameda County (West)--San Leandro, Alameda & ...   \n1  Alameda County (Northwest)--Oakland (Northwest...   \n2  Santa Clara County (Northwest)--Sunnyvale & Sa...   \n3  Alameda County (Southwest)--Union City, Newark...   \n4        Alameda County (Central)--Hayward City PUMA   \n\n                                            geometry  \n0  MULTIPOLYGON (((-2258646.530 342733.341, -2258...  \n1  POLYGON ((-2259099.372 353383.127, -2259101.40...  \n2  POLYGON ((-2246220.131 304622.390, -2246216.04...  \n3  MULTIPOLYGON (((-2247215.331 305414.315, -2247...  \n4  POLYGON ((-2244205.948 331582.334, -2244209.13...  "
     },
     "execution_count": 128,
     "metadata": {},
     "output_type": "execute_result"
    }
   ],
   "source": [
    "DBNAME = \"opportunity_youth\"\n",
    "conn = psycopg2.connect(dbname=DBNAME)\n",
    "\n",
    "pumadf = pd.read_sql(\"\"\"SELECT  CONCAT(statefp,countyfp,tractce) AS \"GEOID\", puma5ce FROM ct_puma_xwalk  ORDER BY \"GEOID\" \"\"\", conn)\n",
    "pumadf['GEOID'] = pumadf['GEOID'].astype('int')\n",
    "\n",
    "ipums = \"//Users/timothycummins/Downloads/ipums_puma_2010\"\n",
    "ipum_df = gpd.read_file(ipums)\n",
    "fp = \"//Users/timothycummins/Downloads/tl_2017_53_cousub\"\n",
    "m_df = gpd.read_file(fp)\n",
    "m_df['GEOID'] = m_df['GEOID'].astype('int')\n",
    "hi = []\n",
    "if 5300390096 in list(pumadf['GEOID']):\n",
    "    print(\"should work\")\n",
    "\n",
    "\n",
    "    \n",
    "#pumadf['GEOID']\n",
    "\n",
    "pumadf = pd.read_sql(\"\"\"SELECT  * FROM puma_names_2010 WHERE state_fips like '53' LIMIT 10\"\"\", conn)\n",
    "#list(pumadf.keys())\n",
    "ipum_df.head()"
   ]
  },
  {
   "cell_type": "code",
   "execution_count": null,
   "metadata": {},
   "outputs": [],
   "source": [
    "# set the range for the choropleth values\n",
    "variable = map_df['COUNTYFP'] == '033'\n",
    "map_df['colors'] = np.where(map_df['COUNTYFP'] == '033', 5,4)\n",
    "\n",
    "\n",
    "\n",
    "vmin, vmax = 45, 50\n",
    "\n",
    "# create figure and axes for Matplotlib\n",
    "fig, ax = plt.subplots(1, figsize=(16,12))\n",
    "\n",
    "ax.set_ylim([46, 49])\n",
    "ax.set_xlim([-124.5, -120.5])\n",
    "\n",
    "# remove the axis\n",
    "ax.axis('off')\n",
    "\n",
    "# Create colorbar legend\n",
    "sm = plt.cm.ScalarMappable(cmap='Blues', norm=plt.Normalize(vmin=vmin, vmax=vmax))\n",
    "\n",
    "# empty array for the data range\n",
    "sm.set_array([])\n",
    "\n",
    "# create map\n",
    "map_df.plot(column=variable, cmap='plasma', linewidth=0.8, ax=ax, edgecolor='1')\n",
    "\n",
    "# Add Labels\n",
    "map_df['coords'] = map_df['geometry'].apply(lambda x: x.representative_point().coords[:])\n",
    "map_df['coords'] = [coords[0] for coords in map_df['coords']]\n",
    "\n",
    "# Create column to only show names of cities in South King County\n",
    "map_df['skc'] = map_df['COUNTYFP'][variable] \n",
    "map_df['skc'] = np.where(map_df['skc'] == '033',map_df['NAME'],'')\n",
    "\n",
    "\n",
    "# Display names \n",
    "for idx, row in map_df.iterrows():\n",
    "    plt.annotate(s=row['skc'], xy=row['coords'],horizontalalignment='center')"
   ]
  },
  {
   "cell_type": "code",
   "execution_count": 0,
   "metadata": {},
   "outputs": [],
   "source": [
    "\n",
    "map_df = pd.merge(m_df,pumadf,how= 'left',on=['GEOID']) \n",
    "map_df.head()\n"
   ]
  },
  {
   "cell_type": "code",
   "execution_count": 0,
   "metadata": {},
   "outputs": [],
   "source": [
    "\n",
    "# set the range for the choropleth values\n",
    "variable = map_df['COUNTYFP'] == '033'\n",
    "map_df['colors'] = np.where(map_df['COUNTYFP'] == '033', 5,4)\n",
    "\n",
    "\n",
    "\n",
    "vmin, vmax = 45, 50\n",
    "\n",
    "# create figure and axes for Matplotlib\n",
    "fig, ax = plt.subplots(1, figsize=(16,12))\n",
    "\n",
    "ax.set_ylim([46, 49])\n",
    "ax.set_xlim([-124.5, -120.5])\n",
    "\n",
    "# remove the axis\n",
    "ax.axis('off')\n",
    "\n",
    "# Create colorbar legend\n",
    "sm = plt.cm.ScalarMappable(cmap='Blues', norm=plt.Normalize(vmin=vmin, vmax=vmax))\n",
    "\n",
    "# empty array for the data range\n",
    "sm.set_array([])\n",
    "\n",
    "# create map\n",
    "map_df.plot(column=variable, cmap='plasma', linewidth=0.8, ax=ax, edgecolor='1')\n",
    "\n",
    "# Add Labels\n",
    "map_df['coords'] = map_df['geometry'].apply(lambda x: x.representative_point().coords[:])\n",
    "map_df['coords'] = [coords[0] for coords in map_df['coords']]\n",
    "\n",
    "# Create column to only show names of cities in South King County\n",
    "map_df['skc'] = map_df['COUNTYFP'][variable] \n",
    "map_df['skc'] = np.where(map_df['skc'] == '033',map_df['NAME'],'')\n",
    "\n",
    "\n",
    "# Display names \n",
    "for idx, row in map_df.iterrows():\n",
    "    plt.annotate(s=row['skc'], xy=row['coords'],horizontalalignment='center')"
   ]
  },
  {
   "cell_type": "code",
   "execution_count": 0,
   "metadata": {},
   "outputs": [],
   "source": [
    "map_df.shape"
   ]
  },
  {
   "cell_type": "code",
   "execution_count": 0,
   "metadata": {},
   "outputs": [],
   "source": [
    "#dont change working\n",
    "\n",
    "\n",
    "fp = \"//Users/timothycummins/Downloads/tl_2017_53_cousub\"\n",
    "map_df = gpd.read_file(fp)\n",
    "plt.rcParams['figure.figsize'] = [16, 12] #height, width\n",
    "\n",
    "\n",
    "# set the range for the choropleth values\n",
    "variable = map_df['COUNTYFP'] == '033'\n",
    "map_df['colors'] = np.where(map_df['COUNTYFP'] == '033', 5,4)\n",
    "\n",
    "\n",
    "\n",
    "vmin, vmax = 45, 50\n",
    "\n",
    "# create figure and axes for Matplotlib\n",
    "fig, ax = plt.subplots(1, figsize=(16,12))\n",
    "\n",
    "ax.set_ylim([46, 49])\n",
    "ax.set_xlim([-124.5, -120.5])\n",
    "\n",
    "# remove the axis\n",
    "ax.axis('off')\n",
    "\n",
    "# Create colorbar legend\n",
    "sm = plt.cm.ScalarMappable(cmap='Blues', norm=plt.Normalize(vmin=vmin, vmax=vmax))\n",
    "\n",
    "# empty array for the data range\n",
    "sm.set_array([])\n",
    "\n",
    "# create map\n",
    "map_df.plot(column=variable, cmap='plasma', linewidth=0.8, ax=ax, edgecolor='1')\n",
    "\n",
    "# Add Labels\n",
    "map_df['coords'] = map_df['geometry'].apply(lambda x: x.representative_point().coords[:])\n",
    "map_df['coords'] = [coords[0] for coords in map_df['coords']]\n",
    "\n",
    "# Create column to only show names of cities in South King County\n",
    "map_df['skc'] = map_df['COUNTYFP'][variable] \n",
    "map_df['skc'] = np.where(map_df['skc'] == '033',map_df['NAME'],'')\n",
    "\n",
    "\n",
    "# Display names \n",
    "for idx, row in map_df.iterrows():\n",
    "    plt.annotate(s=row['skc'], xy=row['coords'],horizontalalignment='center')"
   ]
  },
  {
   "cell_type": "code",
   "execution_count": 0,
   "metadata": {},
   "outputs": [],
   "source": [
    "variable = map_df['COUSUBFP'] == range(11610,11615)\n",
    "variable"
   ]
  },
  {
   "cell_type": "code",
   "execution_count": 0,
   "metadata": {},
   "outputs": [],
   "source": [
    "map_df.head()"
   ]
  },
  {
   "cell_type": "code",
   "execution_count": null,
   "metadata": {},
   "outputs": [],
   "source": []
  }
 ]
}