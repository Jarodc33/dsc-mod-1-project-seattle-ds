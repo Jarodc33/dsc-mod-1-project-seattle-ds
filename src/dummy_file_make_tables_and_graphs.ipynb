{
 "cells": [
  {
   "cell_type": "code",
   "execution_count": 31,
   "metadata": {},
   "outputs": [
    {
     "data": {
      "text/plain": [
       "<Figure size 1080x2880 with 0 Axes>"
      ]
     },
     "metadata": {},
     "output_type": "display_data"
    },
    {
     "data": {
      "text/plain": [
       "<Figure size 1080x2880 with 0 Axes>"
      ]
     },
     "metadata": {},
     "output_type": "display_data"
    }
   ],
   "source": [
    "from data_acquisition import *\n",
    "from data_formating import *\n",
    "from make_2016_tables import *\n",
    "from multi_bar_grapher import *\n",
    "from make_figures import *\n",
    "\n",
    "import pandas as pd\n",
    "import matplotlib.pyplot as plt\n",
    "\n",
    "total_youth_unweighted = get_youth_by_puma(start_puma = 11610, end_puma = 11615, dbname = 'opportunity_youth')\n",
    "oy_by_puma = get_oy_by_puma(start_puma = 11610, end_puma = 11615, dbname = 'opportunity_youth')\n",
    "\n",
    "make_all_figures(total_youth_unweighted)\n",
    "\n",
    "four_race, age, education, all_races = page_2_tables(df, save = True) # all breakups as df\n",
    "four_race_2016, age_2016, edu_2016 = get_2016_tables(save = True)"
   ]
  }
 ],
 "metadata": {
  "file_extension": ".py",
  "kernelspec": {
   "display_name": "Python 3.8.1 64-bit ('oy-env': conda)",
   "language": "python",
   "name": "python38164bitoyenvconda6fcf1ec92587496ab9303553258aae9c"
  },
  "language_info": {
   "codemirror_mode": {
    "name": "ipython",
    "version": 3
   },
   "file_extension": ".py",
   "mimetype": "text/x-python",
   "name": "python",
   "nbconvert_exporter": "python",
   "pygments_lexer": "ipython3",
   "version": "3.8.1"
  },
  "mimetype": "text/x-python",
  "name": "python",
  "npconvert_exporter": "python",
  "pygments_lexer": "ipython3",
  "version": 3
 },
 "nbformat": 4,
 "nbformat_minor": 4
}
